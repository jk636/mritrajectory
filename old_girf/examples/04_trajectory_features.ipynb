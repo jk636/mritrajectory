{
 "cells": [
  {
   "cell_type": "markdown",
   "metadata": {},
   "source": [
    "# Trajectory Class Features\n",
    "\n",
    "This notebook demonstrates advanced features of the `Trajectory` class from the `trajgen` library, including handling dead times, export/import functionality, Voronoi density calculation, and direct data access."
   ]
  },
  {
   "cell_type": "code",
   "execution_count": null,
   "metadata": {},
   "outputs": [],
   "source": [
    "import numpy as np\n",
    "import matplotlib.pyplot as plt\n",
    "from mpl_toolkits.mplot3d import Axes3D # For 3D plotting if needed\n",
    "from trajgen import KSpaceTrajectoryGenerator, Trajectory, COMMON_NUCLEI_GAMMA_HZ_PER_T\n",
    "import os # For file operations\n",
    "\n",
    "# Ensure plots appear inline in the notebook\n",
    "%matplotlib inline"
   ]
  },
  {
   "cell_type": "markdown",
   "metadata": {},
   "source": [
    "## 1. Creating a Sample Trajectory (2D Spiral)\n",
    "\n",
    "We'll start by creating a simple 2D spiral trajectory to work with."
   ]
  },
  {
   "cell_type": "code",
   "execution_count": null,
   "metadata": {},
   "outputs": [],
   "source": [
    "gen_spiral = KSpaceTrajectoryGenerator(\n",
    "    traj_type='spiral',\n",
    "    dim=2,\n",
    "    fov=0.220,\n",
    "    resolution=0.005,\n",
    "    n_interleaves=4, # Multi-interleaf spiral\n",
    "    turns=5,\n",
    "    use_golden_angle=True\n",
    ")\n",
    "\n",
    "kx_s, ky_s, gx_s, gy_s, t_s = gen_spiral.generate()\n",
    "\n",
    "# Combine interleaves\n",
    "kspace_spiral_flat = np.stack([kx_s.ravel(), ky_s.ravel()])\n",
    "gradients_spiral_flat = np.stack([gx_s.ravel(), gy_s.ravel()])\n",
    "\n",
    "traj_sample = Trajectory(\n",
    "    name='Sample Spiral for Features Demo',\n",
    "    kspace_points_rad_per_m=kspace_spiral_flat,\n",
    "    gradient_waveforms_Tm=gradients_spiral_flat,\n",
    "    dt_seconds=gen_spiral.dt,\n",
    "    metadata={'gamma_Hz_per_T': gen_spiral.gamma}\n",
    ")\n",
    "\n",
    "traj_sample.summary()\n",
    "\n",
    "# Plot the sample trajectory\n",
    "plt.figure(figsize=(6,6))\n",
    "plt.plot(traj_sample.kspace_points_rad_per_m[0,:], traj_sample.kspace_points_rad_per_m[1,:], '.')\n",
    "plt.title(traj_sample.name)\n",
    "plt.xlabel('Kx (rad/m)')\n",
    "plt.ylabel('Ky (rad/m)')\n",
    "plt.axis('equal')\n",
    "plt.show()"
   ]
  },
  {
   "cell_type": "markdown",
   "metadata": {},
   "source": [
    "## 2. Dead Time Indication\n",
    "\n",
    "The `Trajectory` class can account for dead times at the start and end of the acquisition."
   ]
  },
  {
   "cell_type": "code",
   "execution_count": null,
   "metadata": {},
   "outputs": [],
   "source": [
    "traj_with_deadtime = Trajectory(\n",
    "    name='Spiral with Dead Time',\n",
    "    kspace_points_rad_per_m=kspace_spiral_flat, # Using same k-space data\n",
    "    gradient_waveforms_Tm=gradients_spiral_flat,\n",
    "    dt_seconds=gen_spiral.dt,\n",
    "    metadata={'gamma_Hz_per_T': gen_spiral.gamma},\n",
    "    dead_time_start_seconds=1e-3,  # 1 ms dead time at start\n",
    "    dead_time_end_seconds=0.5e-3   # 0.5 ms dead time at end\n",
    ")\n",
    "\n",
    "traj_with_deadtime.summary()"
   ]
  },
  {
   "cell_type": "markdown",
   "metadata": {},
   "source": [
    "Observe the `summary()` output. It now includes:\n",
    "- Dead Time (Start)\n",
    "- Dead Time (End)\n",
    "- Total Dead Time\n",
    "- The main \"Duration\" field is now \"Total Duration (incl. deadtime)\"\n",
    "- Metadata also contains `dead_time_start_samples` and `dead_time_end_samples` if `dt_seconds` is available."
   ]
  },
  {
   "cell_type": "markdown",
   "metadata": {},
   "source": [
    "## 3. Exporting and Importing Trajectories\n",
    "\n",
    "Trajectories can be saved to and loaded from `.npz` files."
   ]
  },
  {
   "cell_type": "code",
   "execution_count": null,
   "metadata": {},
   "outputs": [],
   "source": [
    "export_filename = 'sample_trajectory_export.npz'\n",
    "\n",
    "print(f\"Exporting trajectory: {traj_with_deadtime.name} to {export_filename}\")\n",
    "traj_with_deadtime.export(export_filename)\n",
    "\n",
    "print(f\"\\nImporting trajectory from {export_filename}\")\n",
    "traj_imported = Trajectory.import_from(export_filename)\n",
    "\n",
    "print(\"\\nSummary of the imported trajectory:\")\n",
    "traj_imported.summary()\n",
    "\n",
    "# Clean up the created file\n",
    "if os.path.exists(export_filename):\n",
    "    os.remove(export_filename)\n",
    "    print(f\"\\nCleaned up {export_filename}\")"
   ]
  },
  {
   "cell_type": "markdown",
   "metadata": {},
   "source": [
    "The summary of the imported trajectory should match the one with dead times, including all metadata."
   ]
  },
  {
   "cell_type": "markdown",
   "metadata": {},
   "source": [
    "## 4. Voronoi Density Calculation\n",
    "\n",
    "The `Trajectory` class can calculate Voronoi cell sizes for each k-space point, providing a measure of local sampling density."
   ]
  },
  {
   "cell_type": "code",
   "execution_count": null,
   "metadata": {},
   "outputs": [],
   "source": [
    "# Using the 'traj_sample' (4-interleaf 2D spiral) for this demonstration\n",
    "print(\"Calculating Voronoi density for the sample 2D spiral...\")\n",
    "voronoi_cell_sizes = traj_sample.calculate_voronoi_density()\n",
    "\n",
    "if voronoi_cell_sizes is not None:\n",
    "    print(f\"Calculation status: {traj_sample.metadata.get('voronoi_calculation_status')}\")\n",
    "    print(f\"Number of cell sizes calculated: {len(voronoi_cell_sizes)}\")\n",
    "    # The full summary will also print these stats\n",
    "    traj_sample.summary()\n",
    "else:\n",
    "    print(f\"Voronoi calculation failed. Status: {traj_sample.metadata.get('voronoi_calculation_status')}\")"
   ]
  },
  {
   "cell_type": "markdown",
   "metadata": {},
   "source": [
    "### Voronoi Diagram Visualization\n",
    "\n",
    "The `plot_voronoi()` method can be used to visualize the calculated Voronoi cells for 2D trajectories. This helps in understanding the local sampling density."
   ]
  },
  {
   "cell_type": "code",
   "execution_count": null,
   "metadata": {},
   "outputs": [],
   "source": [
    "# Plotting k-space points colored by Voronoi cell sizes (for 2D)\n",
    "if voronoi_cell_sizes is not None and traj_sample.get_num_dimensions() == 2:\n",
    "    finite_cell_sizes = voronoi_cell_sizes[np.isfinite(voronoi_cell_sizes)]\n",
    "    if len(finite_cell_sizes) > 0:\n",
    "        # Use log scale for color mapping due to potentially large variations\n",
    "        # Add a small epsilon to avoid log(0) if cell sizes can be zero (e.g. degenerate)\n",
    "        log_cell_sizes = np.log10(voronoi_cell_sizes + 1e-9) \n",
    "        # Cap color range for better visualization if there are extreme outliers\n",
    "        # For this example, we'll use percentiles for robust capping\n",
    "        finite_log_sizes = log_cell_sizes[np.isfinite(log_cell_sizes)]\n",
    "        vmin = np.percentile(finite_log_sizes, 5) if len(finite_log_sizes) > 0 else np.min(log_cell_sizes[np.isfinite(log_cell_sizes)])\n",
    "        vmax = np.percentile(finite_log_sizes, 95) if len(finite_log_sizes) > 0 else np.max(log_cell_sizes[np.isfinite(log_cell_sizes)])\n",
    "\n",
    "        plt.figure(figsize=(8, 6))\n",
    "        scatter = plt.scatter(traj_sample.kspace_points_rad_per_m[0,:],\n",
    "                              traj_sample.kspace_points_rad_per_m[1,:],\n",
    "                              c=log_cell_sizes, cmap='viridis',\n",
    "                              s=5, vmin=vmin, vmax=vmax)\n",
    "        plt.colorbar(scatter, label='Log10(Voronoi Cell Area)')\n",
    "        plt.title('K-Space Points Colored by Voronoi Cell Size')\n",
    "        plt.xlabel('Kx (rad/m)')\n",
    "        plt.ylabel('Ky (rad/m)')\n",
    "        plt.axis('equal')\n",
    "        plt.grid(True)\n",
    "        plt.show()\n",
    "    else:\n",
    "        print(\"No finite Voronoi cell sizes to plot.\")\n",
    "elif traj_sample.get_num_dimensions() != 2:\n",
    "    print(\"Voronoi plot is configured for 2D trajectories in this example.\")\n",
    "else:\n",
    "    print(\"Voronoi data was not successfully calculated, skipping plot.\")"
   ]
  },
  {
   "cell_type": "code",
   "execution_count": null,
   "metadata": {},
   "outputs": [],
   "source": [
    "# Demonstrate plot_voronoi on the traj_sample\n",
    "if traj_sample.metadata.get('voronoi_calculation_status') == \"Success\":\n",
    "    fig_voronoi = plt.figure(figsize=(10, 8))\n",
    "    ax_voronoi = fig_voronoi.add_subplot(111)\n",
    "    traj_sample.plot_voronoi(\n",
    "        ax=ax_voronoi,\n",
    "        show_points=True, \n",
    "        show_vertices=False, \n",
    "        color_by_area=True, \n",
    "        cmap='coolwarm',\n",
    "        line_width=0.5,\n",
    "        line_colors='k',\n",
    "        point_size=2 # Example of passing kwarg for voronoi_plot_2d if it was used, or for manual plotting\n",
    "    )\n",
    "    plt.title(\"Voronoi Diagram for Sample Spiral (Colored by Area)\")\n",
    "    plt.show()\n",
    "else:\n",
    "    print(\"Skipping Voronoi plot as calculation was not successful or data is missing.\")"
   ]
  },
  {
   "cell_type": "markdown",
   "metadata": {},
   "source": [
    "The plot above shows the Voronoi cells for each k-space point (specifically, for the unique points used in the Voronoi calculation). The cells are colored by their area, providing a visual representation of sampling density. `show_points=True` displays the k-space sample locations, while `show_vertices=False` hides the Voronoi vertices for clarity in this example. The `cmap` parameter sets the colormap."
   ]
  },
  {
   "cell_type": "markdown",
   "metadata": {},
   "source": [
    "## 5. Accessing K-space and Gradient Data"
   ]
  },
  {
   "cell_type": "code",
   "execution_count": null,
   "metadata": {},
   "outputs": [],
   "source": [
    "print(\"Accessing k-space points directly:\")\n",
    "k_points = traj_sample.kspace_points_rad_per_m\n",
    "print(f\"Shape of k_points: {k_points.shape} (Dimensions, NumPoints)\")\n",
    "print(f\"First 5 k-space points (transposed for readability):\\n{k_points[:,:5].T}\")\n",
    "\n",
    "print(\"\\nAccessing gradient waveforms (computed on demand if not provided):\")\n",
    "grad_wf = traj_sample.get_gradient_waveforms_Tm()\n",
    "if grad_wf is not None:\n",
    "    print(f\"Shape of grad_wf: {grad_wf.shape} (Dimensions, NumPoints)\")\n",
    "    print(f\"First 5 gradient waveform points (transposed for readability):\\n{grad_wf[:,:5].T}\")\n",
    "else:\n",
    "    print(\"Gradient waveforms are not available (e.g., dt_seconds might be missing).\")"
   ]
  },
  {
   "cell_type": "markdown",
   "metadata": {},
   "source": [
    "This notebook has covered several key features of the `Trajectory` class, demonstrating its utility in analyzing and managing k-space trajectory data."
   ]
  },
  {
   "cell_type": "markdown",
   "metadata": {},
   "source": [
    "## 6. Using Predefined Gyromagnetic Ratios\n",
    "\n",
    "The `trajgen` module provides a dictionary `COMMON_NUCLEI_GAMMA_HZ_PER_T` for convenient access to gyromagnetic ratios of common nuclei."
   ]
  },
  {
   "cell_type": "code",
   "execution_count": null,
   "metadata": {},
   "outputs": [],
   "source": [
    "print(\"Available nuclei in COMMON_NUCLEI_GAMMA_HZ_PER_T:\")\n",
    "for nucleus, gamma_val in COMMON_NUCLEI_GAMMA_HZ_PER_T.items():\n",
    "    print(f\"- {nucleus}: {gamma_val:.3e} Hz/T\")\n",
    "\n",
    "# Example: Generate a 2D spiral for 1H (proton)\n",
    "fov_common = 0.200  # 20 cm\n",
    "res_common = 0.002 # 2 mm\n",
    "dt_common = 4e-6     # 4 us\n",
    "\n",
    "gen_1H = KSpaceTrajectoryGenerator(\n",
    "    fov=fov_common,\n",
    "    resolution=res_common,\n",
    "    dt=dt_common,\n",
    "    gamma=COMMON_NUCLEI_GAMMA_HZ_PER_T['1H'],\n",
    "    traj_type='spiral',\n",
    "    dim=2,\n",
    "    n_interleaves=1,\n",
    "    turns=8\n",
    ")\n",
    "print(f\"\\n1H Spiral: Calculated n_samples = {gen_1H.n_samples}, g_required = {gen_1H.g_required:.4f} T/m\")\n",
    "\n",
    "# Example: Generate a 2D spiral for 13C with the same imaging parameters\n",
    "gen_13C = KSpaceTrajectoryGenerator(\n",
    "    fov=fov_common,\n",
    "    resolution=res_common,\n",
    "    dt=dt_common,\n",
    "    gamma=COMMON_NUCLEI_GAMMA_HZ_PER_T['13C'],\n",
    "    traj_type='spiral',\n",
    "    dim=2,\n",
    "    n_interleaves=1,\n",
    "    turns=8\n",
    ")\n",
    "print(f\"13C Spiral: Calculated n_samples = {gen_13C.n_samples}, g_required = {gen_13C.g_required:.4f} T/m\")\n",
    "\n",
    "print(\"\\nNote the difference in n_samples and g_required due to different gamma values.\")\n",
    "print(\"A lower gamma (like 13C) typically requires stronger/longer gradients (higher g_required if g_max allows, or more samples) to achieve the same k_max.\")"
   ]
  },
  {
   "cell_type": "markdown",
   "metadata": {},
   "source": [
    "Using this dictionary helps ensure accuracy and convenience when working with different nuclei."
   ]
  }
 ],
 "metadata": {
  "kernelspec": {
   "display_name": "Python 3",
   "language": "python",
   "name": "python3"
  },
  "language_info": {
   "codemirror_mode": {
    "name": "ipython",
    "version": 3
   },
   "file_extension": ".py",
   "mimetype": "text/x-python",
   "name": "python",
   "nbconvert_exporter": "python",
   "pygments_lexer": "ipython3",
   "version": "3.9.12" 
  }
 },
 "nbformat": 4,
 "nbformat_minor": 2
}
