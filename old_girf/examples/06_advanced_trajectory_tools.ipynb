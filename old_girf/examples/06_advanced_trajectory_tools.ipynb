{
 "cells": [
  {
   "cell_type": "markdown",
   "metadata": {},
   "source": [
    "# Advanced Trajectory Tools Demo\n",
    "\n",
    "This notebook demonstrates the usage of advanced trajectory generation, manipulation, and utility functions available in the `trajgen` module. We will cover:\n",
    "\n",
    "1.  Generating spiral and radial trajectories.\n",
    "2.  Constraining trajectories based on hardware limits.\n",
    "3.  Computing density compensation weights using different methods.\n",
    "4.  Visualizing trajectories and their properties (including Voronoi diagrams).\n",
    "5.  Performing a simple image reconstruction from non-Cartesian k-space data."
   ]
  },
  {
   "cell_type": "markdown",
   "metadata": {},
   "source": [
    "## Imports"
   ]
  },
  {
   "cell_type": "code",
   "execution_count": null,
   "metadata": {},
   "outputs": [],
   "source": [
    "import numpy as np\n",
    "import matplotlib.pyplot as plt\n",
    "import os\n",
    "import sys\n",
    "\n",
    "# Add the parent directory to the Python path to allow importing trajgen\n",
    "# This assumes the notebook is in 'examples' and 'trajgen.py' is in the parent directory\n",
    "module_path = os.path.abspath(os.path.join('..'))\n",
    "if module_path not in sys.path:\n",
    "    sys.path.append(module_path)\n",
    "\n",
    "from trajgen import (\n",
    "    Trajectory,\n",
    "    normalize_density_weights, # Though not directly called, good to know it's there\n",
    "    compute_density_compensation,\n",
    "    create_periodic_points, \n",
    "    compute_voronoi_density,\n",
    "    generate_spiral_trajectory,\n",
    "    generate_radial_trajectory,\n",
    "    constrain_trajectory,\n",
    "    reconstruct_image,\n",
    "    display_trajectory\n",
    ")\n",
    "\n",
    "%matplotlib inline \n",
    "# Use %matplotlib widget for interactive plots if your environment supports it"
   ]
  },
  {
   "cell_type": "markdown",
   "metadata": {},
   "source": [
    "## Section 1: Trajectory Generation"
   ]
  },
  {
   "cell_type": "markdown",
   "metadata": {},
   "source": [
    "### Spiral Trajectory"
   ]
  },
  {
   "cell_type": "code",
   "execution_count": null,
   "metadata": {},
   "outputs": [],
   "source": [
    "num_arms_spiral = 16\n",
    "num_samples_per_arm_spiral = 1024\n",
    "fov_spiral = 0.22  # meters\n",
    "dt_spiral = 4e-6 # seconds\n",
    "\n",
    "spiral_traj = generate_spiral_trajectory(\n",
    "    num_arms=num_arms_spiral,\n",
    "    num_samples_per_arm=num_samples_per_arm_spiral,\n",
    "    fov_m=fov_spiral,\n",
    "    dt_seconds=dt_spiral,\n",
    "    name=\"DemoSpiral\"\n",
    ")\n",
    "\n",
    "print(\"--- Spiral Trajectory Summary ---\")\n",
    "spiral_traj.summary() # Assuming the Trajectory class has a summary method\n",
    "print(\"\\n--- Metadata --- \")\n",
    "for key, value in spiral_traj.metadata.items():\n",
    "    if key == 'generator_params':\n",
    "        print(f\"Generator Params:\")\n",
    "        for gp_key, gp_value in value.items():\n",
    "            print(f\"  {gp_key}: {gp_value}\")\n",
    "    else:\n",
    "        print(f\"{key}: {value}\")\n",
    "\n",
    "plt.figure(figsize=(7,7))\n",
    "display_trajectory(spiral_traj, plot_type=\"2D\", max_total_points=2000) # Limit points for clarity\n",
    "plt.title(\"Generated Spiral Trajectory\")\n",
    "plt.show()"
   ]
  },
  {
   "cell_type": "markdown",
   "metadata": {},
   "source": [
    "### Radial Trajectory"
   ]
  },
  {
   "cell_type": "code",
   "execution_count": null,
   "metadata": {},
   "outputs": [],
   "source": [
    "num_spokes_radial = 64\n",
    "num_samples_per_spoke_radial = 256\n",
    "fov_radial = 0.24 # meters\n",
    "dt_radial = 4e-6 # seconds\n",
    "\n",
    "radial_traj = generate_radial_trajectory(\n",
    "    num_spokes=num_spokes_radial,\n",
    "    num_samples_per_spoke=num_samples_per_spoke_radial,\n",
    "    fov_m=fov_radial,\n",
    "    dt_seconds=dt_radial,\n",
    "    use_golden_angle=True,\n",
    "    name=\"DemoRadialGA\"\n",
    ")\n",
    "\n",
    "print(\"--- Radial Trajectory Summary ---\")\n",
    "radial_traj.summary()\n",
    "\n",
    "plt.figure(figsize=(7,7))\n",
    "display_trajectory(radial_traj, plot_type=\"2D\", max_total_points=5000, plot_style='-') # Show more points for radial\n",
    "plt.title(\"Generated Golden Angle Radial Trajectory\")\n",
    "plt.show()"
   ]
  },
  {
   "cell_type": "markdown",
   "metadata": {},
   "source": [
    "## Section 2: Trajectory Constraints"
   ]
  },
  {
   "cell_type": "code",
   "execution_count": null,
   "metadata": {},
   "outputs": [],
   "source": [
    "# Generate a fast spiral that might violate constraints\n",
    "fast_spiral_traj = generate_spiral_trajectory(\n",
    "    num_arms=8,\n",
    "    num_samples_per_arm=512,\n",
    "    fov_m=0.2,\n",
    "    max_k_rad_per_m=np.pi / 0.002, # High k_max (2mm resolution)\n",
    "    num_revolutions=20, # Many revolutions\n",
    "    dt_seconds=4e-6, \n",
    "    name=\"FastSpiral\"\n",
    ")\n",
    "\n",
    "max_gradient = 0.04  # T/m\n",
    "max_slew_rate = 150  # T/m/s\n",
    "\n",
    "print(f\"Original trajectory max gradient: {fast_spiral_traj.get_max_grad_Tm():.4f} T/m\")\n",
    "print(f\"Original trajectory max slew rate: {fast_spiral_traj.get_max_slew_Tm_per_s():.2f} T/m/s\")\n",
    "\n",
    "constrained_spiral_traj = constrain_trajectory(\n",
    "    fast_spiral_traj,\n",
    "    max_gradient_Tm_per_m=max_gradient,\n",
    "    max_slew_rate_Tm_per_m_per_s=max_slew_rate\n",
    ")\n",
    "\n",
    "print(f\"\\nConstrained trajectory max gradient: {constrained_spiral_traj.get_max_grad_Tm():.4f} T/m\")\n",
    "print(f\"Constrained trajectory max slew rate: {constrained_spiral_traj.get_max_slew_Tm_per_s():.2f} T/m/s\")\n",
    "\n",
    "fig, axes = plt.subplots(1, 2, figsize=(14, 6))\n",
    "display_trajectory(fast_spiral_traj, plot_type=\"2D\", ax=axes[0], title=\"Original Fast Spiral\", max_total_points=2000)\n",
    "display_trajectory(constrained_spiral_traj, plot_type=\"2D\", ax=axes[1], title=\"Constrained Spiral\", max_total_points=2000)\n",
    "plt.tight_layout()\n",
    "plt.show()\n",
    "\n",
    "print(\"\\n--- Original Fast Spiral Summary ---\")\n",
    "fast_spiral_traj.summary()\n",
    "print(\"\\n--- Constrained Spiral Summary ---\")\n",
    "constrained_spiral_traj.summary()"
   ]
  },
  {
   "cell_type": "markdown",
   "metadata": {},
   "source": [
    "## Section 3: Density Compensation"
   ]
  },
  {
   "cell_type": "markdown",
   "metadata": {},
   "source": [
    "### Voronoi Method (using `compute_density_compensation`)"
   ]
  },
  {
   "cell_type": "code",
   "execution_count": null,
   "metadata": {},
   "outputs": [],
   "source": [
    "# Using the radial trajectory from earlier\n",
    "# compute_density_compensation expects trajectory k-space points, typically (N, D) or complex (A,S)\n",
    "k_points_radial = radial_traj.kspace_points_rad_per_m # This is (D, N)\n",
    "if k_points_radial.shape[0] == 2: # Ensure it's (N,D) for the function if it's 2D\n",
    "    k_points_radial_for_comp = k_points_radial.T\n",
    "else:\n",
    "    k_points_radial_for_comp = k_points_radial # Assuming already N,D or function handles it\n",
    "\n",
    "weights_voronoi = compute_density_compensation(k_points_radial_for_comp, method=\"voronoi\")\n",
    "\n",
    "plt.figure(figsize=(8,7))\n",
    "sc = plt.scatter(k_points_radial[0,:], k_points_radial[1,:], c=weights_voronoi, cmap='viridis', s=5)\n",
    "plt.colorbar(sc, label='Voronoi Weights')\n",
    "plt.title('Radial Trajectory with Voronoi Density Compensation')\n",
    "plt.xlabel('Kx (rad/m)')\n",
    "plt.ylabel('Ky (rad/m)')\n",
    "plt.axis('equal')\n",
    "plt.show()\n",
    "\n",
    "print(f\"Voronoi weights: min={weights_voronoi.min():.2e}, max={weights_voronoi.max():.2e}, sum={weights_voronoi.sum():.2f}\")"
   ]
  },
  {
   "cell_type": "markdown",
   "metadata": {},
   "source": [
    "### Pipe Method (using `compute_density_compensation`)"
   ]
  },
  {
   "cell_type": "code",
   "execution_count": null,
   "metadata": {},
   "outputs": [],
   "source": [
    "# Using the spiral trajectory from earlier\n",
    "k_points_spiral = spiral_traj.kspace_points_rad_per_m # (D, N)\n",
    "# For compute_density_compensation, we can pass complex k-space data directly \n",
    "# if the trajectory was originally generated that way, or convert to (N,D) real.\n",
    "# Here, spiral_traj.kspace_points_rad_per_m is (2, N_total). Let's convert to complex (N_total,)\n",
    "k_complex_spiral = k_points_spiral[0,:] + 1j * k_points_spiral[1,:]\n",
    "\n",
    "weights_pipe = compute_density_compensation(k_complex_spiral, method=\"pipe\", dt_seconds=spiral_traj.dt_seconds)\n",
    "\n",
    "plt.figure(figsize=(8,7))\n",
    "sc = plt.scatter(k_points_spiral[0,:], k_points_spiral[1,:], c=weights_pipe, cmap='magma', s=5)\n",
    "plt.colorbar(sc, label='Pipe Weights')\n",
    "plt.title('Spiral Trajectory with Pipe Density Compensation')\n",
    "plt.xlabel('Kx (rad/m)')\n",
    "plt.ylabel('Ky (rad/m)')\n",
    "plt.axis('equal')\n",
    "plt.show()\n",
    "\n",
    "print(f\"Pipe weights: min={weights_pipe.min():.2e}, max={weights_pipe.max():.2e}, sum={weights_pipe.sum():.2f}\")"
   ]
  },
  {
   "cell_type": "markdown",
   "metadata": {},
   "source": [
    "### Advanced Voronoi Density (using `compute_voronoi_density`)"
   ]
  },
  {
   "cell_type": "code",
   "execution_count": null,
   "metadata": {},
   "outputs": [],
   "source": [
    "# Create a simple 2D trajectory with fewer points for easier visualization\n",
    "simple_points = np.array([[0,0], [0.5,0.1], [-0.2,0.4], [0.3,-0.3], [-0.4,-0.2]]) # (N,D)\n",
    "\n",
    "# compute_voronoi_density expects points normalized to [-0.5, 0.5] for 'periodic'\n",
    "# The function also has internal normalization, but good to be aware.\n",
    "min_vals = np.min(simple_points, axis=0)\n",
    "max_vals = np.max(simple_points, axis=0)\n",
    "range_vals = max_vals - min_vals\n",
    "range_vals[range_vals == 0] = 1 # Avoid division by zero for single points\n",
    "norm_traj_pts = (simple_points - min_vals) / range_vals - 0.5\n",
    "# Ensure truly centered if original data was e.g. all positive\n",
    "current_min = np.min(norm_traj_pts, axis=0)\n",
    "current_max = np.max(norm_traj_pts, axis=0)\n",
    "current_range = current_max - current_min\n",
    "current_range[current_range==0] = 1\n",
    "norm_traj_pts = (norm_traj_pts - current_min) / current_range - 0.5\n",
    "\n",
    "\n",
    "weights_periodic = compute_voronoi_density(norm_traj_pts, boundary_type=\"periodic\")\n",
    "weights_clipped = compute_voronoi_density(norm_traj_pts, boundary_type=\"clipped\")\n",
    "\n",
    "fig, axes = plt.subplots(1, 2, figsize=(14, 6))\n",
    "sc_p = axes[0].scatter(norm_traj_pts[:,0], norm_traj_pts[:,1], c=weights_periodic, cmap='viridis', s=50)\n",
    "fig.colorbar(sc_p, ax=axes[0], label='Periodic Weights')\n",
    "axes[0].set_title('Periodic Voronoi Density')\n",
    "axes[0].set_xlabel('Kx (normalized)')\n",
    "axes[0].set_ylabel('Ky (normalized)')\n",
    "axes[0].axis('equal')\n",
    "\n",
    "sc_c = axes[1].scatter(norm_traj_pts[:,0], norm_traj_pts[:,1], c=weights_clipped, cmap='viridis', s=50)\n",
    "fig.colorbar(sc_c, ax=axes[1], label='Clipped Weights')\n",
    "axes[1].set_title('Clipped Voronoi Density')\n",
    "axes[1].set_xlabel('Kx (normalized)')\n",
    "axes[1].set_ylabel('Ky (normalized)')\n",
    "axes[1].axis('equal')\n",
    "\n",
    "plt.tight_layout()\n",
    "plt.show()\n",
    "\n",
    "print(f\"Periodic weights: {weights_periodic}\")\n",
    "print(f\"Clipped weights: {weights_clipped}\")\n",
    "print(\"Note: For 'clipped', points on the convex hull often get very small or zero cell areas before median replacement, leading to more uniform weights after fallback.\")\n",
    "print(\"For 'periodic', all points are treated as internal to a tiled space, yielding more varied cell sizes.\")"
   ]
  },
  {
   "cell_type": "markdown",
   "metadata": {},
   "source": [
    "### Using `Trajectory.calculate_voronoi_density()` and `plot_voronoi()`"
   ]
  },
  {
   "cell_type": "code",
   "execution_count": null,
   "metadata": {},
   "outputs": [],
   "source": [
    "# Using the radial trajectory. plot_voronoi calls calculate_voronoi_density internally.\n",
    "fig_vor = plt.figure(figsize=(8,7))\n",
    "ax_vor = fig_vor.add_subplot(111)\n",
    "radial_traj.plot_voronoi(ax=ax_vor, title=\"Voronoi Diagram for Radial Trajectory\", show_points=True, line_width=0.5)\n",
    "plt.show()"
   ]
  },
  {
   "cell_type": "markdown",
   "metadata": {},
   "source": [
    "## Section 4: Image Reconstruction"
   ]
  },
  {
   "cell_type": "code",
   "execution_count": null,
   "metadata": {},
   "outputs": [],
   "source": [
    "# Using the radial trajectory for reconstruction\n",
    "num_pts_radial = radial_traj.get_num_points()\n",
    "k_coords_radial = radial_traj.kspace_points_rad_per_m # (D, N)\n",
    "\n",
    "# Simulate k-space data: higher signal at center, decaying outwards + noise\n",
    "k_radii = np.sqrt(k_coords_radial[0,:]**2 + k_coords_radial[1,:]**2)\n",
    "max_k_radius = np.max(k_radii) if np.max(k_radii) > 0 else 1.0\n",
    "sim_kspace_data = np.exp(-k_radii / max_k_radius * 2) + \\\n",
    "                  0.05 * (np.random.randn(num_pts_radial) + 1j * np.random.randn(num_pts_radial))\n",
    "sim_kspace_data[k_radii < max_k_radius*0.1] *= 2 # Boost center signal slightly more\n",
    "\n",
    "grid_size = (64, 64)\n",
    "\n",
    "print(f\"Reconstructing image with grid size: {grid_size}\")\n",
    "image_recon = reconstruct_image(\n",
    "    sim_kspace_data,\n",
    "    radial_traj,\n",
    "    grid_size,\n",
    "    density_comp_method=\"voronoi\", # or 'pipe' or None\n",
    "    verbose=True\n",
    ")\n",
    "\n",
    "plt.figure(figsize=(7,7))\n",
    "plt.imshow(image_recon, cmap='gray')\n",
    "plt.title(f'Reconstructed Image ({grid_size[0]}x{grid_size[1]}) from Radial Traj.')\n",
    "plt.colorbar()\n",
    "plt.show()"
   ]
  },
  {
   "cell_type": "markdown",
   "metadata": {},
   "source": [
    "## Section 5: 3D Trajectory Visualization (Example)"
   ]
  },
  {
   "cell_type": "code",
   "execution_count": null,
   "metadata": {},
   "outputs": [],
   "source": [
    "# Generate a simple 3D trajectory (e.g., Stack-of-Spirals or 3D Radial)\n",
    "# For simplicity, let's adapt the radial generator for a basic 3D stack-of-stars\n",
    "num_spokes_3d = 16\n",
    "num_samples_per_spoke_3d = 32\n",
    "num_slices_3d = 8\n",
    "fov_3d = 0.2\n",
    "k_max_3d = np.pi / (fov_3d / num_slices_3d) # Kz max for slice thickness\n",
    "\n",
    "all_k_points_3d_list = []\n",
    "for i_slice in range(num_slices_3d):\n",
    "    kz_offset = -k_max_3d/2 + (i_slice + 0.5) * (k_max_3d / num_slices_3d)\n",
    "    radial_2d_part = generate_radial_trajectory(\n",
    "        num_spokes=num_spokes_3d // num_slices_3d, # Fewer spokes per slice\n",
    "        num_samples_per_spoke=num_samples_per_spoke_3d,\n",
    "        fov_m=fov_3d,\n",
    "        use_golden_angle=False # Uniform for simplicity here\n",
    "    )\n",
    "    kxy_points = radial_2d_part.kspace_points_rad_per_m # (2, N_slice_pts)\n",
    "    kz_points = np.full(kxy_points.shape[1], kz_offset)\n",
    "    slice_k_points = np.vstack((kxy_points, kz_points)) # (3, N_slice_pts)\n",
    "    all_k_points_3d_list.append(slice_k_points)\n",
    "\n",
    "k_points_3d_combined = np.concatenate(all_k_points_3d_list, axis=1)\n",
    "traj_3d_example = Trajectory(\"Demo3DStackOfStars\", k_points_3d_combined, dt_seconds=4e-6)\n",
    "\n",
    "print(f\"Generated 3D trajectory with {traj_3d_example.get_num_points()} points.\")\n",
    "\n",
    "fig = plt.figure(figsize=(8,8))\n",
    "ax = fig.add_subplot(111, projection='3d')\n",
    "display_trajectory(traj_3d_example, plot_type=\"3D\", ax=ax, max_total_points=2000) # Limit points\n",
    "plt.title(\"3D Stack-of-Stars Trajectory Example\")\n",
    "plt.show()"
   ]
  },
  {
   "cell_type": "markdown",
   "metadata": {},
   "source": [
    "## Conclusion\n",
    "\n",
    "This notebook demonstrated key functionalities for generating, constraining, and utilizing k-space trajectories, including density compensation and basic image reconstruction. These tools provide a foundation for exploring various non-Cartesian MRI sequences and reconstruction techniques."
   ]
  }
 ],
 "metadata": {
  "kernelspec": {
   "display_name": "Python 3 (ipykernel)",
   "language": "python",
   "name": "python3"
  },
  "language_info": {
   "codemirror_mode": {
    "name": "ipython",
    "version": 3
   },
   "file_extension": ".py",
   "mimetype": "text/x-python",
   "name": "python",
   "nbconvert_exporter": "python",
   "pygments_lexer": "ipython3",
   "version": "3.10.12"
  }
 },
 "nbformat": 4,
 "nbformat_minor": 5
}
