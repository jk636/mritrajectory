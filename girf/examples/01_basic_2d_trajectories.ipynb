{
 "cells": [
  {
   "cell_type": "markdown",
   "metadata": {},
   "source": [
    "# Basic 2D Trajectories\n",
    "\n",
    "This notebook demonstrates the generation, summarization, and visualization of basic 2D k-space trajectories using the `trajgen` library."
   ]
  },
  {
   "cell_type": "code",
   "execution_count": null,
   "metadata": {},
   "outputs": [],
   "source": [
    "import numpy as np\n",
    "import matplotlib.pyplot as plt\n",
    "from trajgen import KSpaceTrajectoryGenerator, Trajectory\n",
    "\n",
    "# Ensure plots appear inline in the notebook\n",
    "%matplotlib inline"
   ]
  },
  {
   "cell_type": "markdown",
   "metadata": {},
   "source": [
    "## 1. 2D Spiral Trajectory"
   ]
  },
  {
   "cell_type": "code",
   "execution_count": null,
   "metadata": {},
   "outputs": [],
   "source": [
    "# Instantiate generator for a 2D spiral\n",
    "gen_spiral = KSpaceTrajectoryGenerator(\n",
    "    traj_type='spiral',\n",
    "    dim=2,\n",
    "    fov=0.256,            # Field of View in meters\n",
    "    resolution=0.004,     # Resolution in meters\n",
    "    n_interleaves=1,      # Single interleaf for a simple demo\n",
    "    turns=8               # Number of turns in the spiral\n",
    ")\n",
    "\n",
    "# Generate trajectory waveforms\n",
    "kx_spiral, ky_spiral, gx_spiral, gy_spiral, t_spiral = gen_spiral.generate()\n",
    "\n",
    "# kx, ky are typically (n_interleaves, n_samples_per_interleaf)\n",
    "# For a single interleaf demo, we take the first one: kx_spiral[0], ky_spiral[0]\n",
    "kspace_spiral_2d = np.stack([kx_spiral[0], ky_spiral[0]])\n",
    "gradients_spiral_2d = np.stack([gx_spiral[0], gy_spiral[0]])\n",
    "\n",
    "# Create Trajectory object\n",
    "traj_spiral = Trajectory(\n",
    "    name='2D Spiral Example',\n",
    "    kspace_points_rad_per_m=kspace_spiral_2d,\n",
    "    gradient_waveforms_Tm=gradients_spiral_2d, # Optional, can be computed by Trajectory class\n",
    "    dt_seconds=gen_spiral.dt,\n",
    "    metadata={'gamma_Hz_per_T': gen_spiral.gamma, 'generator_params': gen_spiral.__dict__}\n",
    ")\n",
    "\n",
    "# Display trajectory summary\n",
    "traj_spiral.summary()"
   ]
  },
  {
   "cell_type": "code",
   "execution_count": null,
   "metadata": {},
   "outputs": [],
   "source": [
    "# Plot the 2D Spiral k-space trajectory\n",
    "plt.figure(figsize=(6, 6))\n",
    "plt.plot(kspace_spiral_2d[0, :], kspace_spiral_2d[1, :])\n",
    "plt.title('2D Spiral K-Space Trajectory')\n",
    "plt.xlabel('Kx (rad/m)')\n",
    "plt.ylabel('Ky (rad/m)')\n",
    "plt.axis('equal')\n",
    "plt.grid(True)\n",
    "plt.show()"
   ]
  },
  {
   "cell_type": "markdown",
   "metadata": {},
   "source": [
    "## 2. 2D Radial Trajectory"
   ]
  },
  {
   "cell_type": "code",
   "execution_count": null,
   "metadata": {},
   "outputs": [],
   "source": [
    "# Instantiate generator for a 2D radial trajectory\n",
    "gen_radial = KSpaceTrajectoryGenerator(\n",
    "    traj_type='radial',\n",
    "    dim=2,\n",
    "    fov=0.256,\n",
    "    resolution=0.004,\n",
    "    n_interleaves=16,  # Number of radial spokes\n",
    "    use_golden_angle=True # Use golden angle for spoke distribution\n",
    ")\n",
    "\n",
    "# Generate trajectory waveforms\n",
    "kx_radial, ky_radial, gx_radial, gy_radial, t_radial = gen_radial.generate()\n",
    "\n",
    "# Combine all interleaves (spokes) for the Trajectory object\n",
    "# kx_radial.ravel() flattens the (n_interleaves, n_samples) array into a single dimension\n",
    "kspace_radial_2d = np.stack([kx_radial.ravel(), ky_radial.ravel()])\n",
    "gradients_radial_2d = np.stack([gx_radial.ravel(), gy_radial.ravel()])\n",
    "\n",
    "# Create Trajectory object\n",
    "traj_radial = Trajectory(\n",
    "    name='2D Radial Example',\n",
    "    kspace_points_rad_per_m=kspace_radial_2d,\n",
    "    gradient_waveforms_Tm=gradients_radial_2d,\n",
    "    dt_seconds=gen_radial.dt,\n",
    "    metadata={'gamma_Hz_per_T': gen_radial.gamma, 'generator_params': gen_radial.__dict__}\n",
    ")\n",
    "\n",
    "# Display trajectory summary\n",
    "traj_radial.summary()"
   ]
  },
  {
   "cell_type": "code",
   "execution_count": null,
   "metadata": {},
   "outputs": [],
   "source": [
    "# Plot the 2D Radial k-space trajectory\n",
    "plt.figure(figsize=(6, 6))\n",
    "plt.plot(kspace_radial_2d[0, :], kspace_radial_2d[1, :], '.') # Plot points for clarity\n",
    "plt.title('2D Radial K-Space Trajectory (16 spokes)')\n",
    "plt.xlabel('Kx (rad/m)')\n",
    "plt.ylabel('Ky (rad/m)')\n",
    "plt.axis('equal')\n",
    "plt.grid(True)\n",
    "plt.show()"
   ]
  },
  {
   "cell_type": "markdown",
   "metadata": {},
   "source": [
    "## 3. 2D EPI Trajectory"
   ]
  },
  {
   "cell_type": "code",
   "execution_count": null,
   "metadata": {},
   "outputs": [],
   "source": [
    "# Instantiate generator for a 2D EPI trajectory\n",
    "gen_epi = KSpaceTrajectoryGenerator(\n",
    "    traj_type='epi',\n",
    "    dim=2,\n",
    "    fov=0.256,\n",
    "    resolution=0.008, # Lower resolution for fewer PE lines for clarity\n",
    "    n_interleaves=32, # Number of phase-encode lines in Ky\n",
    ")\n",
    "\n",
    "# Generate trajectory waveforms\n",
    "kx_epi, ky_epi, gx_epi, gy_epi, t_epi = gen_epi.generate()\n",
    "\n",
    "# Combine all interleaves (phase-encode lines)\n",
    "kspace_epi_2d = np.stack([kx_epi.ravel(), ky_epi.ravel()])\n",
    "gradients_epi_2d = np.stack([gx_epi.ravel(), gy_epi.ravel()])\n",
    "\n",
    "# Create Trajectory object\n",
    "traj_epi = Trajectory(\n",
    "    name='2D EPI Example',\n",
    "    kspace_points_rad_per_m=kspace_epi_2d,\n",
    "    gradient_waveforms_Tm=gradients_epi_2d,\n",
    "    dt_seconds=gen_epi.dt,\n",
    "    metadata={'gamma_Hz_per_T': gen_epi.gamma, 'generator_params': gen_epi.__dict__}\n",
    ")\n",
    "\n",
    "# Display trajectory summary\n",
    "traj_epi.summary()"
   ]
  },
  {
   "cell_type": "code",
   "execution_count": null,
   "metadata": {},
   "outputs": [],
   "source": [
    "# Plot the 2D EPI k-space trajectory\n",
    "plt.figure(figsize=(8, 6))\n",
    "# Plotting every few points can make the raster pattern clearer for dense EPIs\n",
    "plt.plot(kspace_epi_2d[0, ::10], kspace_epi_2d[1, ::10], '-') \n",
    "plt.scatter(kspace_epi_2d[0, 0], kspace_epi_2d[1, 0], color='g', s=100, label='Start') # Mark start\n",
    "plt.scatter(kspace_epi_2d[0, -1], kspace_epi_2d[1, -1], color='r', s=100, label='End') # Mark end\n",
    "plt.title('2D EPI K-Space Trajectory (32 PE lines)')\n",
    "plt.xlabel('Kx (rad/m)')\n",
    "plt.ylabel('Ky (rad/m)')\n",
    "plt.axis('equal')\n",
    "plt.grid(True)\n",
    "plt.legend()\n",
    "plt.show()"
   ]
  },
  {
   "cell_type": "markdown",
   "metadata": {},
   "source": [
    "This concludes the basic 2D trajectory examples. The `Trajectory` object's `summary()` method provides key metrics, and k-space plots allow for visual inspection."
   ]
  }
 ],
 "metadata": {
  "kernelspec": {
   "display_name": "Python 3",
   "language": "python",
   "name": "python3"
  },
  "language_info": {
   "codemirror_mode": {
    "name": "ipython",
    "version": 3
   },
   "file_extension": ".py",
   "mimetype": "text/x-python",
   "name": "python",
   "nbconvert_exporter": "python",
   "pygments_lexer": "ipython3",
   "version": "3.9.12"
  }
 },
 "nbformat": 4,
 "nbformat_minor": 2
}
