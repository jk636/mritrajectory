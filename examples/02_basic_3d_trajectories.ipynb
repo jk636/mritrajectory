{
 "cells": [
  {
   "cell_type": "markdown",
   "metadata": {},
   "source": [
    "# Basic 3D Trajectories\n",
    "\n",
    "This notebook demonstrates the generation, summarization, and visualization of basic 3D k-space trajectories using the `trajgen` library."
   ]
  },
  {
   "cell_type": "code",
   "execution_count": null,
   "metadata": {},
   "outputs": [],
   "source": [
    "import numpy as np\n",
    "import matplotlib.pyplot as plt\n",
    "from mpl_toolkits.mplot3d import Axes3D # For 3D plotting\n",
    "from trajgen import KSpaceTrajectoryGenerator, Trajectory\n",
    "\n",
    "# Ensure plots appear inline in the notebook\n",
    "%matplotlib inline"
   ]
  },
  {
   "cell_type": "markdown",
   "metadata": {},
   "source": [
    "## 1. 3D Stack-of-Spirals Trajectory"
   ]
  },
  {
   "cell_type": "code",
   "execution_count": null,
   "metadata": {},
   "outputs": [],
   "source": [
    "# Instantiate generator for a 3D Stack-of-Spirals\n",
    "n_stacks = 4\n",
    "spirals_per_stack = 8\n",
    "gen_sos = KSpaceTrajectoryGenerator(\n",
    "    traj_type='stackofspirals',\n",
    "    dim=3,\n",
    "    fov=0.224,            # Field of View in meters (for in-plane)\n",
    "    resolution=0.004,     # Resolution in meters (for in-plane)\n",
    "    n_interleaves=spirals_per_stack, # Spirals per stack (Kz plane)\n",
    "    n_stacks=n_stacks,             # Number of stacks (Kz planes)\n",
    "    zmax_factor=0.9,             # Factor of k_max for z extent (0.9 * k_max_xy)\n",
    "    turns=6\n",
    ")\n",
    "\n",
    "# Generate trajectory waveforms\n",
    "# For stackofspirals, n_interleaves in generator is per Z-plane.\n",
    "# The actual number of shots will be n_interleaves * n_stacks.\n",
    "# The generate() method handles this internally and returns all shots.\n",
    "kx_sos, ky_sos, kz_sos, gx_sos, gy_sos, gz_sos, t_sos = gen_sos.generate()\n",
    "\n",
    "# kx, ky, kz are (total_shots, n_samples_per_shot)\n",
    "# Combine all shots for the Trajectory object\n",
    "kspace_sos_3d = np.stack([kx_sos.ravel(), ky_sos.ravel(), kz_sos.ravel()])\n",
    "gradients_sos_3d = np.stack([gx_sos.ravel(), gy_sos.ravel(), gz_sos.ravel()])\n",
    "\n",
    "# Create Trajectory object\n",
    "traj_sos = Trajectory(\n",
    "    name='3D Stack-of-Spirals Example',\n",
    "    kspace_points_rad_per_m=kspace_sos_3d,\n",
    "    gradient_waveforms_Tm=gradients_sos_3d,\n",
    "    dt_seconds=gen_sos.dt,\n",
    "    metadata={'gamma_Hz_per_T': gen_sos.gamma, 'generator_params': gen_sos.__dict__}\n",
    ")\n",
    "\n",
    "# Display trajectory summary\n",
    "traj_sos.summary()"
   ]
  },
  {
   "cell_type": "code",
   "execution_count": null,
   "metadata": {},
   "outputs": [],
   "source": [
    "# Plot a subset of the 3D Stack-of-Spirals k-space trajectory\n",
    "fig = plt.figure(figsize=(8, 8))\n",
    "ax = fig.add_subplot(111, projection='3d')\n",
    "\n",
    "# Plot every Nth point to keep the plot clean\n",
    "step = 20 \n",
    "ax.plot(kspace_sos_3d[0, ::step], kspace_sos_3d[1, ::step], kspace_sos_3d[2, ::step], '.', markersize=1)\n",
    "\n",
    "# For better visualization, plot just a few full spirals from different stacks\n",
    "# num_samples_per_spiral = gen_sos.n_samples\n",
    "# for i in range(0, kx_sos.shape[0], spirals_per_stack // 2): # Plot a few spirals\n",
    "#     ax.plot(kx_sos[i,:], ky_sos[i,:], kz_sos[i,:], '-')\n",
    "\n",
    "ax.set_title('3D Stack-of-Spirals K-Space Trajectory (Subset)')\n",
    "ax.set_xlabel('Kx (rad/m)')\n",
    "ax.set_ylabel('Ky (rad/m)')\n",
    "ax.set_zlabel('Kz (rad/m)')\n",
    "plt.show()"
   ]
  },
  {
   "cell_type": "markdown",
   "metadata": {},
   "source": [
    "### Using the `plot_3d` method for Visualization\n",
    "\n",
    "The `Trajectory` class has a built-in `plot_3d` method that can be used for direct visualization. It includes parameters for subsampling to handle large datasets."
   ]
  },
  {
   "cell_type": "code",
   "execution_count": null,
   "metadata": {},
   "outputs": [],
   "source": [
    "# Demonstrate the built-in plot_3d method on the 3D Radial trajectory\n",
    "fig_plot3d = plt.figure(figsize=(9, 9))\n",
    "ax_plot3d = fig_plot3d.add_subplot(111, projection='3d')\n",
    "traj_radial3d.plot_3d(\n",
    "    ax=ax_plot3d, \n",
    "    max_total_points=5000, # Limit total points for responsiveness\n",
    "    max_interleaves=16,    # Plot a subset of interleaves\n",
    "    interleaf_stride=max(1, traj_radial3d.metadata.get('generator_params',{}).get('n_interleaves', 256) // 16), # Calculate stride to get ~16 interleaves\n",
    "    point_stride=5         # Plot every 5th point in each selected interleaf\n",
    ")\n",
    "plt.title(\"3D Radial Trajectory via traj.plot_3d()\")\n",
    "plt.show()"
   ]
  },
  {
   "cell_type": "markdown",
   "metadata": {},
   "source": [
    "The `plot_3d` method attempts to intelligently subsample the data. Parameters like `max_total_points`, `max_interleaves`, `interleaf_stride`, and `point_stride` control the level of detail. The method tries to use interleaf structure from metadata if available."
   ]
  },
  {
   "cell_type": "markdown",
   "metadata": {},
   "source": [
    "## 2. 3D Radial Trajectory (Kooshball)"
   ]
  },
  {
   "cell_type": "code",
   "execution_count": null,
   "metadata": {},
   "outputs": [],
   "source": [
    "# Instantiate generator for a 3D radial trajectory\n",
    "gen_radial3d = KSpaceTrajectoryGenerator(\n",
    "    traj_type='radial3d',\n",
    "    dim=3,\n",
    "    fov=0.200,\n",
    "    resolution=0.005,\n",
    "    n_interleaves=256,  # Number of radial spokes\n",
    "    use_golden_angle=True # Use 3D golden angle (phyllotaxis-like) for spoke distribution\n",
    ")\n",
    "\n",
    "# Generate trajectory waveforms\n",
    "kx_rad3d, ky_rad3d, kz_rad3d, gx_rad3d, gy_rad3d, gz_rad3d, t_rad3d = gen_radial3d.generate()\n",
    "\n",
    "# Combine all interleaves (spokes)\n",
    "kspace_rad3d_3d = np.stack([kx_rad3d.ravel(), ky_rad3d.ravel(), kz_rad3d.ravel()])\n",
    "gradients_rad3d_3d = np.stack([gx_rad3d.ravel(), gy_rad3d.ravel(), gz_rad3d.ravel()])\n",
    "\n",
    "# Create Trajectory object\n",
    "traj_radial3d = Trajectory(\n",
    "    name='3D Radial (Kooshball) Example',\n",
    "    kspace_points_rad_per_m=kspace_rad3d_3d,\n",
    "    gradient_waveforms_Tm=gradients_rad3d_3d,\n",
    "    dt_seconds=gen_radial3d.dt,\n",
    "    metadata={'gamma_Hz_per_T': gen_radial3d.gamma, 'generator_params': gen_radial3d.__dict__}\n",
    ")\n",
    "\n",
    "# Display trajectory summary\n",
    "traj_radial3d.summary()"
   ]
  },
  {
   "cell_type": "code",
   "execution_count": null,
   "metadata": {},
   "outputs": [],
   "source": [
    "# Plot a subset of the 3D Radial k-space trajectory\n",
    "fig = plt.figure(figsize=(8, 8))\n",
    "ax = fig.add_subplot(111, projection='3d')\n",
    "\n",
    "# Plot every Nth point from the ravelled data\n",
    "step = 50 \n",
    "ax.plot(kspace_rad3d_3d[0, ::step], kspace_rad3d_3d[1, ::step], kspace_rad3d_3d[2, ::step], '.', markersize=1)\n",
    "ax.set_title('3D Radial K-Space Trajectory (Subset)')\n",
    "ax.set_xlabel('Kx (rad/m)')\n",
    "ax.set_ylabel('Ky (rad/m)')\n",
    "ax.set_zlabel('Kz (rad/m)')\n",
    "plt.show()"
   ]
  },
  {
   "cell_type": "markdown",
   "metadata": {},
   "source": [
    "## 3. 3D EPI Trajectory"
   ]
  },
  {
   "cell_type": "code",
   "execution_count": null,
   "metadata": {},
   "outputs": [],
   "source": [
    "# Define 3D EPI parameters\n",
    "fov_readout = 0.256  # meters\n",
    "res_readout = 0.004  # meters\n",
    "fov_phase_y = 0.256  # meters\n",
    "res_phase_y = 0.008  # meters (1/2 res of readout -> 32 lines for full FOV)\n",
    "fov_phase_z = 0.200  # meters\n",
    "res_phase_z = 0.016  # meters (1/4 res of readout -> 12-13 lines for full FOV)\n",
    "\n",
    "num_encodes_y = int(round(fov_phase_y / res_phase_y))\n",
    "num_encodes_z = int(round(fov_phase_z / res_phase_z))\n",
    "total_epi_interleaves = num_encodes_y * num_encodes_z\n",
    "\n",
    "print(f\"EPI Y encodes: {num_encodes_y}, Z encodes: {num_encodes_z}, Total interleaves: {total_epi_interleaves}\")\n",
    "\n",
    "# Instantiate generator for a 3D EPI trajectory\n",
    "gen_epi3d = KSpaceTrajectoryGenerator(\n",
    "    traj_type='epi_3d',\n",
    "    dim=3,\n",
    "    fov=fov_readout,             # Readout FOV (x-direction)\n",
    "    resolution=res_readout,      # Readout resolution (x-direction)\n",
    "    epi_3d_fov_y=fov_phase_y,\n",
    "    epi_3d_resolution_y=res_phase_y,\n",
    "    epi_3d_fov_z=fov_phase_z,\n",
    "    epi_3d_resolution_z=res_phase_z,\n",
    "    n_interleaves=total_epi_interleaves # Total Ky-Kz planes\n",
    ")\n",
    "\n",
    "# Generate trajectory waveforms\n",
    "kx_epi3d, ky_epi3d, kz_epi3d, gx_epi3d, gy_epi3d, gz_epi3d, t_epi3d = gen_epi3d.generate()\n",
    "\n",
    "# Combine all interleaves (Ky-Kz planes)\n",
    "kspace_epi3d_3d = np.stack([kx_epi3d.ravel(), ky_epi3d.ravel(), kz_epi3d.ravel()])\n",
    "gradients_epi3d_3d = np.stack([gx_epi3d.ravel(), gy_epi3d.ravel(), gz_epi3d.ravel()])\n",
    "\n",
    "# Create Trajectory object\n",
    "traj_epi3d = Trajectory(\n",
    "    name='3D EPI Example',\n",
    "    kspace_points_rad_per_m=kspace_epi3d_3d,\n",
    "    gradient_waveforms_Tm=gradients_epi3d_3d,\n",
    "    dt_seconds=gen_epi3d.dt,\n",
    "    metadata={'gamma_Hz_per_T': gen_epi3d.gamma, 'generator_params': gen_epi3d.__dict__}\n",
    ")\n",
    "\n",
    "# Display trajectory summary\n",
    "traj_epi3d.summary()"
   ]
  },
  {
   "cell_type": "code",
   "execution_count": null,
   "metadata": {},
   "outputs": [],
   "source": [
    "# Plot a subset of the 3D EPI k-space trajectory\n",
    "fig = plt.figure(figsize=(8, 8))\n",
    "ax = fig.add_subplot(111, projection='3d')\n",
    "\n",
    "# Plot every Nth point from the ravelled data to keep the plot somewhat clean\n",
    "step = max(1, kspace_epi3d_3d.shape[1] // 2000) # Aim for around 2000 points\n",
    "ax.plot(kspace_epi3d_3d[0, ::step], kspace_epi3d_3d[1, ::step], kspace_epi3d_3d[2, ::step], '.', markersize=1)\n",
    "ax.set_title('3D EPI K-Space Trajectory (Subset)')\n",
    "ax.set_xlabel('Kx (rad/m)')\n",
    "ax.set_ylabel('Ky (rad/m)')\n",
    "ax.set_zlabel('Kz (rad/m)')\n",
    "\n",
    "# Set view angle for better visualization of EPI structure\n",
    "ax.view_init(elev=20, azim=-45)\n",
    "plt.show()"
   ]
  },
  {
   "cell_type": "markdown",
   "metadata": {},
   "source": [
    "This notebook showcased how to generate, summarize, and visualize 3D trajectories like Stack-of-Spirals, 3D Radial (Kooshball), and 3D EPI. Due to the large number of points in 3D trajectories, only subsets are typically plotted for clarity."
   ]
  }
 ],
 "metadata": {
  "kernelspec": {
   "display_name": "Python 3",
   "language": "python",
   "name": "python3"
  },
  "language_info": {
   "codemirror_mode": {
    "name": "ipython",
    "version": 3
   },
   "file_extension": ".py",
   "mimetype": "text/x-python",
   "name": "python",
   "nbconvert_exporter": "python",
   "pygments_lexer": "ipython3",
   "version": "3.9.12" 
  }
 },
 "nbformat": 4,
 "nbformat_minor": 2
}
