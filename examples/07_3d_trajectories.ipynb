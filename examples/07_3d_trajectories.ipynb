{
 "cells": [
  {
   "cell_type": "markdown",
   "metadata": {},
   "source": [
    "# 3D Trajectory Generation and Visualization Demo\n",
    "\n",
    "This notebook showcases 3D trajectory generation (stack-of-spirals, 3D cones), their visualization, and the application of hardware constraints."
   ]
  },
  {
   "cell_type": "markdown",
   "metadata": {},
   "source": [
    "## Imports"
   ]
  },
  {
   "cell_type": "code",
   "execution_count": null,
   "metadata": {},
   "outputs": [],
   "source": [
    "import numpy as np\n",
    "import matplotlib.pyplot as plt\n",
    "import os\n",
    "import sys\n",
    "\n",
    "# Add the parent directory to the Python path to allow importing trajgen\n",
    "# This assumes the notebook is in 'examples' and 'trajgen.py' is in the parent directory\n",
    "module_path = os.path.abspath(os.path.join('..'))\n",
    "if module_path not in sys.path:\n",
    "    sys.path.append(module_path)\n",
    "\n",
    "from trajgen import (\n",
    "    Trajectory,\n",
    "    generate_stack_of_spirals_trajectory,\n",
    "    generate_3d_cones_trajectory,\n",
    "    display_trajectory,\n",
    "    constrain_trajectory\n",
    ")\n",
    "\n",
    "%matplotlib inline\n",
    "# For interactive 3D plots, you might prefer:\n",
    "# %matplotlib widget \n",
    "# Ensure you have ipympl installed: pip install ipympl"
   ]
  },
  {
   "cell_type": "markdown",
   "metadata": {},
   "source": [
    "## Section 1: Stack-of-Spirals Trajectory"
   ]
  },
  {
   "cell_type": "markdown",
   "metadata": {},
   "source": [
    "### Generation"
   ]
  },
  {
   "cell_type": "code",
   "execution_count": null,
   "metadata": {},
   "outputs": [],
   "source": [
    "num_spirals_per_plane_sos = 8\n",
    "num_samples_per_spiral_sos = 128\n",
    "num_planes_sos = 5\n",
    "plane_fov_sos = 0.25  # meters\n",
    "total_z_fov_sos = 0.1 # meters\n",
    "dt_sos = 4e-6 # seconds\n",
    "\n",
    "sos_traj = generate_stack_of_spirals_trajectory(\n",
    "    num_spirals_per_plane=num_spirals_per_plane_sos,\n",
    "    num_samples_per_spiral=num_samples_per_spiral_sos,\n",
    "    num_planes=num_planes_sos,\n",
    "    plane_fov_m=plane_fov_sos,\n",
    "    total_z_fov_m=total_z_fov_sos,\n",
    "    dt_seconds=dt_sos,\n",
    "    name=\"DemoStackOfSpirals\"\n",
    ")\n",
    "\n",
    "print(\"--- Stack-of-Spirals Trajectory Summary ---\")\n",
    "if hasattr(sos_traj, 'summary') and callable(sos_traj.summary):\n",
    "    sos_traj.summary()\n",
    "else:\n",
    "    print(f\"Name: {sos_traj.name}\")\n",
    "    print(f\"Dimensions: {sos_traj.get_num_dimensions()}\")\n",
    "    print(f\"Number of points: {sos_traj.get_num_points()}\")\n",
    "    print(f\"Duration: {sos_traj.get_duration_seconds() * 1000:.2f} ms\")\n",
    "    print(f\"Metadata keys: {list(sos_traj.metadata.keys())}\")\n",
    "    if 'generator_params' in sos_traj.metadata:\n",
    "        print(\"  Generator Params:\")\n",
    "        for key, value in sos_traj.metadata['generator_params'].items():\n",
    "            if key == 'kz_plane_positions_calculated':\n",
    "                 print(f\"    {key}: {np.array(value)}\") # Print array nicely\n",
    "            else:\n",
    "                 print(f\"    {key}: {value}\")"
   ]
  },
  {
   "cell_type": "markdown",
   "metadata": {},
   "source": [
    "### Visualization"
   ]
  },
  {
   "cell_type": "code",
   "execution_count": null,
   "metadata": {},
   "outputs": [],
   "source": [
    "fig_sos = plt.figure(figsize=(8, 7))\n",
    "ax_sos = display_trajectory(sos_traj, plot_type=\"3D\", figure=fig_sos, max_total_points=5000) \n",
    "if ax_sos: # display_trajectory returns None if plotting fails\n",
    "    ax_sos.set_title(\"Stack-of-Spirals Trajectory\")\n",
    "plt.show()"
   ]
  },
  {
   "cell_type": "markdown",
   "metadata": {},
   "source": [
    "## Section 2: 3D Cones Trajectory"
   ]
  },
  {
   "cell_type": "markdown",
   "metadata": {},
   "source": [
    "### Generation"
   ]
  },
  {
   "cell_type": "code",
   "execution_count": null,
   "metadata": {},
   "outputs": [],
   "source": [
    "num_cones_cones = 12\n",
    "num_samples_per_cone_cones = 256\n",
    "max_k_cones = np.pi / (0.2 / 2) # k_max for FOV of 0.2m, resolution implicitly defined by this\n",
    "cone_angle_cones = 20.0  # degrees\n",
    "revolutions_cones = 8.0\n",
    "dt_cones = 4e-6 # seconds\n",
    "\n",
    "cones_traj = generate_3d_cones_trajectory(\n",
    "    num_cones=num_cones_cones,\n",
    "    num_samples_per_cone=num_samples_per_cone_cones,\n",
    "    max_k_rad_per_m=max_k_cones,\n",
    "    cone_angle_deg=cone_angle_cones,\n",
    "    revolutions_per_cone=revolutions_cones,\n",
    "    dt_seconds=dt_cones,\n",
    "    name=\"Demo3DCones\"\n",
    ")\n",
    "\n",
    "print(\"--- 3D Cones Trajectory Summary ---\")\n",
    "if hasattr(cones_traj, 'summary') and callable(cones_traj.summary):\n",
    "    cones_traj.summary()\n",
    "else:\n",
    "    print(f\"Name: {cones_traj.name}\")\n",
    "    print(f\"Dimensions: {cones_traj.get_num_dimensions()}\")\n",
    "    print(f\"Number of points: {cones_traj.get_num_points()}\")\n",
    "    print(f\"Duration: {cones_traj.get_duration_seconds() * 1000:.2f} ms\")\n",
    "    print(f\"Metadata keys: {list(cones_traj.metadata.keys())}\")\n",
    "    if 'generator_params' in cones_traj.metadata:\n",
    "        print(\"  Generator Params:\")\n",
    "        for key, value in cones_traj.metadata['generator_params'].items():\n",
    "            print(f\"    {key}: {value}\")"
   ]
  },
  {
   "cell_type": "markdown",
   "metadata": {},
   "source": [
    "### Visualization"
   ]
  },
  {
   "cell_type": "code",
   "execution_count": null,
   "metadata": {},
   "outputs": [],
   "source": [
    "fig_cones = plt.figure(figsize=(8, 7))\n",
    "ax_cones = display_trajectory(cones_traj, plot_type=\"3D\", figure=fig_cones, max_total_points=5000, plot_style='-')\n",
    "if ax_cones:\n",
    "    ax_cones.set_title(\"3D Cones Trajectory\")\n",
    "plt.show()"
   ]
  },
  {
   "cell_type": "markdown",
   "metadata": {},
   "source": [
    "## Section 3: Constraining a 3D Trajectory"
   ]
  },
  {
   "cell_type": "code",
   "execution_count": null,
   "metadata": {},
   "outputs": [],
   "source": [
    "# Generate a \"demanding\" 3D Cones trajectory\n",
    "demanding_cones_traj = generate_3d_cones_trajectory(\n",
    "    num_cones=8,\n",
    "    num_samples_per_cone=512, # More samples\n",
    "    max_k_rad_per_m=np.pi / (0.22 / 2), # Slightly higher k_max\n",
    "    cone_angle_deg=30.0, \n",
    "    revolutions_per_cone=10.0, # More revolutions\n",
    "    dt_seconds=2e-6,  # Shorter dwell time to increase gradient/slew demands\n",
    "    name=\"Demanding3DCones\"\n",
    ")\n",
    "\n",
    "print(\"--- Original Demanding 3D Cones Trajectory ---\")\n",
    "if hasattr(demanding_cones_traj, 'summary') and callable(demanding_cones_traj.summary):\n",
    "    demanding_cones_traj.summary()\n",
    "else:\n",
    "    print(f\"Original Max Grad: {demanding_cones_traj.get_max_grad_Tm():.3f} T/m\")\n",
    "    print(f\"Original Max Slew: {demanding_cones_traj.get_max_slew_Tm_per_s():.1f} T/m/s\")\n",
    "\n",
    "# Define Constraints\n",
    "max_grad_constraint = 30.0 / 1000  # T/m (using 30 mT/m)\n",
    "max_slew_constraint = 120.0  # T/m/s\n",
    "\n",
    "print(f\"\\n--- Applying Constraints ---\")\n",
    "print(f\"Max Gradient Limit: {max_grad_constraint:.3f} T/m\")\n",
    "print(f\"Max Slew Rate Limit: {max_slew_constraint:.1f} T/m/s\")\n",
    "\n",
    "# Apply Constraints\n",
    "constrained_3d_traj = constrain_trajectory(\n",
    "    demanding_cones_traj,\n",
    "    max_gradient_Tm_per_m=max_grad_constraint,\n",
    "    max_slew_rate_Tm_per_m_per_s=max_slew_constraint\n",
    "    # dt_seconds will be taken from demanding_cones_traj (2e-6 s)\n",
    ")\n",
    "\n",
    "print(\"\\n--- Constrained 3D Cones Trajectory ---\")\n",
    "if hasattr(constrained_3d_traj, 'summary') and callable(constrained_3d_traj.summary):\n",
    "    constrained_3d_traj.summary()\n",
    "else:\n",
    "    print(f\"Constrained Max Grad: {constrained_3d_traj.get_max_grad_Tm():.3f} T/m (Limit: {max_grad_constraint:.3f} T/m)\")\n",
    "    print(f\"Constrained Max Slew: {constrained_3d_traj.get_max_slew_Tm_per_s():.1f} T/m/s (Limit: {max_slew_constraint:.1f} T/m/s)\")\n"
   ]
  },
  {
   "cell_type": "markdown",
   "metadata": {},
   "source": [
    "### Visualization of Original and Constrained 3D Trajectories"
   ]
  },
  {
   "cell_type": "code",
   "execution_count": null,
   "metadata": {},
   "outputs": [],
   "source": [
    "fig1 = plt.figure(figsize=(8, 7))\n",
    "ax1 = display_trajectory(demanding_cones_traj, plot_type=\"3D\", figure=fig1, \n",
    "                         title=\"Original Demanding 3D Trajectory\", max_total_points=3000)\n",
    "plt.show()\n",
    "\n",
    "fig2 = plt.figure(figsize=(8, 7))\n",
    "ax2 = display_trajectory(constrained_3d_traj, plot_type=\"3D\", figure=fig2, \n",
    "                         title=f\"Constrained 3D Trajectory\", max_total_points=3000)\n",
    "plt.show()"
   ]
  },
  {
   "cell_type": "markdown",
   "metadata": {},
   "source": [
    "## Conclusion\n",
    "\n",
    "This notebook demonstrated the generation of 3D Stack-of-Spirals and 3D Cones trajectories. It also showed how to visualize these complex 3D trajectories and apply hardware constraints (maximum gradient and slew rate) to them. These tools are essential for designing and simulating advanced MRI pulse sequences."
   ]
  },
  {
   "cell_type": "code",
   "execution_count": null,
   "metadata": {},
   "outputs": [],
   "source": []
  }
 ],
 "metadata": {
  "kernelspec": {
   "display_name": "Python 3 (ipykernel)",
   "language": "python",
   "name": "python3"
  },
  "language_info": {
   "codemirror_mode": {
    "name": "ipython",
    "version": 3
   },
   "file_extension": ".py",
   "mimetype": "text/x-python",
   "name": "python",
   "nbconvert_exporter": "python",
   "pygments_lexer": "ipython3",
   "version": "3.10.12"
  }
 },
 "nbformat": 4,
 "nbformat_minor": 5
}
