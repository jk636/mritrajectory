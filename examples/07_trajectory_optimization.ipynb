# %% [markdown]
# # Trajectory Optimization with Trajgen Optimizers
#
# This notebook demonstrates how to use the `TrajectoryOptimizer` to find optimal parameters for a trajectory generator based on a custom cost function. We will use the `generate_drunken_kooshball_trajectory` as an example, aiming to optimize its perturbation parameters to balance k-space coverage against hardware constraints and other desirable properties.

# %%
# General Imports
import numpy as np
import matplotlib.pyplot as plt
from mpl_toolkits.mplot3d import Axes3D # For 3D plotting
import time # To time optimization

# Trajgen Imports
# Ensure trajgen is installed or PYTHONPATH is set correctly
# For example, if running from the 'examples' directory of the project:
# import sys
# import os
# sys.path.insert(0, os.path.abspath(os.path.join(os.path.dirname(__file__), '..')))

from trajgen.trajectory import Trajectory, COMMON_NUCLEI_GAMMA_HZ_PER_T
from trajgen.generators import generate_drunken_kooshball_trajectory
from trajgen.optimizers import (
    TrajectoryOptimizer,
    calculate_hardware_penalty,
    calculate_gradient_roughness_penalty,
    calculate_pns_proxy_penalty,
    calculate_signal_decay_penalty,      # New
    calculate_psf_incoherence_penalty  # New
)

# %% [markdown]
# ## 1. Define Fixed Parameters for the Generator
#
# These are parameters for `generate_drunken_kooshball_trajectory` that we will keep constant during this optimization run. The `TrajectoryOptimizer` requires `dt_seconds` to be in these fixed parameters to correctly instantiate `Trajectory` objects internally. `gamma_Hz_per_T` is also good to include, though `Trajectory` has a default. Other parameters like FOV, resolution, and number of points define the basic characteristics of the trajectory we are trying to optimize.
#
# The `max_grad_Tm_per_m` and `max_slew_Tm_per_s_per_m` here are targets for the *generator's internal smoothing loop*. The cost function defined later can use different (e.g., stricter) limits for evaluation.
# We also add `k_max_rad_per_m_for_cost_eval` here, derived from resolution, for use in the PSF incoherence cost.

# %%
fixed_params_kooshball = {
    'name': "opt_kooshball", # Base name, optimizer will add prefixes/suffixes
    'fov_mm': (180.0, 180.0, 180.0),
    'resolution_mm': (3.0, 3.0, 3.0),
    'num_points': 512,  # Keep low for faster optimization in this example
    'dt_seconds': 4e-6, # 4 microseconds
    'base_spherical_spiral_turns': 6,
    'gamma_Hz_per_T': COMMON_NUCLEI_GAMMA_HZ_PER_T['1H'],
    'max_grad_Tm_per_m': 0.080,
    'max_slew_Tm_per_s_per_m': 300.0,
    'num_smoothing_iterations': 2,
    'smoothing_kernel_size': 3
}

# Calculate and add k_max for cost evaluation
res_min_mm_kooshball = np.min(fixed_params_kooshball['resolution_mm'])
fixed_params_kooshball['k_max_rad_per_m_for_cost_eval'] = 1.0 / (2 * (res_min_mm_kooshball / 1000.0))


# %% [markdown]
# ## 2. Define Parameters to Optimize and Their Bounds
#
# We select which parameters of the `generate_drunken_kooshball_trajectory` function we want the optimizer to tune. For each parameter, we provide a `(min_bound, max_bound)` tuple.

# %%
optimizable_params_config_kooshball = {
    'perturbation_amplitude_factor': (0.01, 0.3),
    'density_sigma_factor': (0.1, 0.6),
    'smoothness_emphasis_factor': (0.0, 1.0)
}

# %% [markdown]
# ## 3. Define the Custom Cost Function
#
# The cost function is crucial. It takes a `Trajectory` object (generated with a set of parameters) and returns a single floating-point number representing how "bad" that trajectory is. The optimizer will try to minimize this value.
#
# We can combine multiple cost components, each potentially weighted by a `penalty_factor` to adjust its importance.

# %%
def my_custom_cost_function(trajectory: Trajectory) -> float:
    """
    Example cost function for optimizing a Drunken Kooshball trajectory.
    Weights can be adjusted based on priorities.
    A lower cost is better.
    """
    cost = 0.0

    # --- Original Cost Components ---
    # 1. Hardware Penalty
    hw_grad_limit = 0.070  # 70 mT/m
    hw_slew_limit = 250.0  # 250 T/m/s
    cost_hw_penalty = calculate_hardware_penalty(
        trajectory,
        grad_limit_Tm_per_m=hw_grad_limit,
        slew_limit_Tm_per_s_per_m=hw_slew_limit,
        penalty_factor=200.0
    )
    cost += cost_hw_penalty

    # 2. Gradient Roughness Penalty
    cost_roughness = calculate_gradient_roughness_penalty(
        trajectory,
        penalty_factor=5.0
    )
    cost += cost_roughness

    # 3. PNS Proxy Penalty
    pns_slew_threshold = 200.0 # T/m/s
    cost_pns = calculate_pns_proxy_penalty(
        trajectory,
        pns_threshold_T_per_s=pns_slew_threshold,
        penalty_factor=50.0
    )
    cost += cost_pns

    # 4. K-max Coverage Penalty (Original)
    k_coverage_penalty = 0.0
    k_points_actual = trajectory.kspace_points_rad_per_m
    if k_points_actual.size > 0:
        k_max_achieved = np.max(np.linalg.norm(k_points_actual, axis=0))
    else:
        k_max_achieved = 0.0
    target_k_max = fixed_params_kooshball['k_max_rad_per_m_for_cost_eval']

    if k_max_achieved < 0.8 * target_k_max: # Penalize if less than 80% of target k_max
        k_coverage_penalty = 100.0 * ((0.8 * target_k_max - k_max_achieved) / target_k_max)**2
        cost += k_coverage_penalty

    # --- New Cost Components ---
    # 5. Signal Decay Penalty
    cost_decay = calculate_signal_decay_penalty(
        trajectory,
        T1_ms=1200.0,  # Example T1 for brain tissue at 3T
        T2_ms=80.0,    # Example T2 for brain tissue at 3T
        b_value_s_per_mm2=0.0, # Assuming non-DWI for this optimization
        # Example k_space_weighting_func (optional): penalize decay more at center
        # k_space_weighting_func=lambda r: np.exp(-(r / (0.3 * fixed_params_kooshball['k_max_rad_per_m_for_cost_eval'] + 1e-9))**2),
        is_13c=False,
        penalty_factor=20.0 # Adjust weight as needed
    )
    cost += cost_decay

    # 6. PSF Incoherence Penalty
    k_max_for_psf = fixed_params_kooshball['k_max_rad_per_m_for_cost_eval']
    # Example target density: prefer slightly denser sampling at center
    # target_density_example = lambda r_nd: np.exp(-(r_nd / (0.4 * k_max_for_psf + 1e-9))**2)

    cost_psf_incoherence = calculate_psf_incoherence_penalty(
        trajectory,
        k_max_rad_per_m=k_max_for_psf, # Use the k_max from fixed_params
        # target_density_func=target_density_example, # Make it optional for now
        penalty_factor=30.0 # Adjust weight as needed
    )
    cost += cost_psf_incoherence

    # print(f"    Cost Breakdown: HW={cost_hw_penalty:.2e}, Roughness={cost_roughness:.2e}, PNS={cost_pns:.2e}, Kmax_cov={k_coverage_penalty:.2e}, Decay={cost_decay:.2e}, PSF_incoh={cost_psf_incoherence:.2e}")
    return cost

# %% [markdown]
# ## 4. Instantiate and Run the Optimizer
#
# Now we create an instance of `TrajectoryOptimizer` and run the optimization.
# Note: Optimization with PSF/decay penalties can be slower per iteration due to more complex calculations. For this example, `maxiter` is kept low.

# %%
optimizer = TrajectoryOptimizer(
    generator_func=generate_drunken_kooshball_trajectory,
    optimizable_params_config=optimizable_params_config_kooshball,
    cost_evaluator_func=my_custom_cost_function,
    fixed_generator_params=fixed_params_kooshball
)

initial_guess = [0.1, 0.3, 0.2] # For perturbation_amplitude_factor, density_sigma_factor, smoothness_emphasis_factor

print("Starting trajectory optimization...")
start_time = time.time()

optimizer_options = {'maxiter': 15, 'disp': False, 'ftol': 1e-6, 'gtol': 1e-5} # Reduced maxiter

best_trajectory, best_cost, optimization_result = optimizer.optimize(
    initial_guess_values=initial_guess,
    optimizer_options=optimizer_options
)

end_time = time.time()
print(f"\nOptimization finished in {end_time - start_time:.2f} seconds.")

if best_trajectory:
    print(f"Best cost found: {best_cost:.6e}")
    optimized_params_dict = best_trajectory.metadata.get('optimized_params', {})
    print("Optimal parameters:")
    for key, value in optimized_params_dict.items():
        print(f"  {key}: {value:.4f}")

    fig = plt.figure(figsize=(8, 8))
    ax = fig.add_subplot(111, projection='3d')
    point_stride_plot = max(1, best_trajectory.get_num_points() // 500)
    best_trajectory.plot_3d(ax=ax, title=f"Optimized Trajectory (Cost: {best_cost:.2e})",
                            point_stride=point_stride_plot, plot_style='-')
    plt.show()

    print("\nActual hardware usage of optimized trajectory:")
    print(f"  Max Gradient: {best_trajectory.get_max_grad_Tm():.4f} T/m")
    print(f"  Max Slew Rate: {best_trajectory.get_max_slew_Tm_per_s():.2f} T/m/s")
    print(f"  Achieved k_max: {np.max(np.linalg.norm(best_trajectory.kspace_points_rad_per_m, axis=0)):.2f} rad/m")
else:
    print("Optimization did not yield a best trajectory.")

# %% [markdown]
# ## 5. Discussion and Interpretation
#
# -   **Best Cost**: The `best_cost` value indicates the minimum value found by the optimizer for your `my_custom_cost_function`. A lower value is generally better.
# -   **Optimal Parameters**: The `optimized_params` dictionary in `best_trajectory.metadata` shows the parameter values that yielded this best cost. These are the suggested parameters for your `generate_drunken_kooshball_trajectory` function based on the defined cost function and optimization run.
# -   **Cost Function Weights**: The relative `penalty_factor` values used in `my_custom_cost_function` are critical. If, for example, the hardware penalty is too low, the optimizer might find trajectories that are "good" in other aspects but violate hardware limits. These weights often need empirical tuning based on the specific application and desired trade-offs.
# -   **Optimization Method and Iterations**:
    -   The `L-BFGS-B` method is a common choice for bound-constrained optimization. Other methods available in `scipy.optimize.minimize` (like 'SLSQP', 'TNC') could also be tried and might yield different results or performance.
    -   The `maxiter` in `optimizer_options` was kept low (15) for this example to run quickly. For real applications, increasing this (e.g., to 50, 100, or more) would allow the optimizer more attempts to find a better solution.
    -   The `ftol` and `gtol` parameters control the tolerance for termination. Smaller values mean stricter convergence criteria.
# -   **Initial Guess**: Providing a good `initial_guess_values` can sometimes speed up convergence or help find a better local minimum, though the optimizer can also start from the midpoint of bounds.
# -   **Reproducibility**: Optimization results can sometimes vary slightly between runs or depend on the initial guess, especially for non-convex problems.
# -   **`optimization_result` Object**: The third item returned by `optimizer.optimize()` is the full result object from `scipy.optimize.minimize`. This object contains more detailed information, such as the reason for termination, number of function evaluations, Jacobian/Hessian information (if computed by the method), etc. This can be useful for advanced analysis of the optimization process.
#
# This example provides a starting point. Real-world trajectory optimization often involves more complex cost functions, potentially considering image quality metrics from simulations, scanner-specific constraints, or other performance indicators.

# %%
# Example of how to access more details from the optimization_result
if 'optimization_result' in locals() and optimization_result:
    print("\n--- Detailed Optimization Result ---")
    print(f"Success: {optimization_result.success}")
    print(f"Status Message: {optimization_result.message}")
    print(f"Number of iterations: {optimization_result.nit}")
    print(f"Number of objective function evaluations: {optimization_result.nfev}")
    # print(f"Number of Jacobian evaluations (if applicable): {optimization_result.njev}") # May not exist for L-BFGS-B
    # print(f"Final gradient norm (if applicable): {optimization_result.jac if hasattr(optimization_result, 'jac') else 'N/A'}")

```
