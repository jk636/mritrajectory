{
 "cells": [
  {
   "cell_type": "markdown",
   "metadata": {},
   "source": [
    "# UTE and ZTE Trajectories\n",
    "\n",
    "This notebook demonstrates the generation of Ultra-Short Echo time (UTE) and Zero Echo Time (ZTE) style trajectories. These typically involve ramp sampling from the k-space center outwards."
   ]
  },
  {
   "cell_type": "code",
   "execution_count": null,
   "metadata": {},
   "outputs": [],
   "source": [
    "import numpy as np\n",
    "import matplotlib.pyplot as plt\n",
    "from mpl_toolkits.mplot3d import Axes3D # For 3D plotting\n",
    "from trajgen import KSpaceTrajectoryGenerator, Trajectory\n",
    "\n",
    "# Ensure plots appear inline in the notebook\n",
    "%matplotlib inline"
   ]
  },
  {
   "cell_type": "markdown",
   "metadata": {},
   "source": [
    "## 1. UTE 3D Radial Trajectory\n",
    "\n",
    "This demonstrates a 3D radial trajectory with ramp sampling enabled, characteristic of UTE sequences. Each spoke starts from the k-space center and goes outwards."
   ]
  },
  {
   "cell_type": "code",
   "execution_count": null,
   "metadata": {},
   "outputs": [],
   "source": [
    "# Instantiate generator for a UTE 3D radial trajectory\n",
    "gen_ute_radial = KSpaceTrajectoryGenerator(\n",
    "    traj_type='radial3d',\n",
    "    dim=3,\n",
    "    fov=0.200,           # meters\n",
    "    resolution=0.004,    # meters\n",
    "    n_interleaves=128,   # Number of radial spokes\n",
    "    use_golden_angle=True,\n",
    "    ute_ramp_sampling=True # Key flag for UTE behavior\n",
    ")\n",
    "\n",
    "# Generate trajectory waveforms\n",
    "kx_urad, ky_urad, kz_urad, gx_urad, gy_urad, gz_urad, t_urad = gen_ute_radial.generate()\n",
    "\n",
    "# Combine all interleaves (spokes)\n",
    "kspace_ute_radial_3d = np.stack([kx_urad.ravel(), ky_urad.ravel(), kz_urad.ravel()])\n",
    "gradients_ute_radial_3d = np.stack([gx_urad.ravel(), gy_urad.ravel(), gz_urad.ravel()])\n",
    "\n",
    "# Create Trajectory object\n",
    "traj_ute_radial = Trajectory(\n",
    "    name='UTE 3D Radial Example',\n",
    "    kspace_points_rad_per_m=kspace_ute_radial_3d,\n",
    "    gradient_waveforms_Tm=gradients_ute_radial_3d,\n",
    "    dt_seconds=gen_ute_radial.dt,\n",
    "    metadata={'gamma_Hz_per_T': gen_ute_radial.gamma, 'generator_params': gen_ute_radial.__dict__}\n",
    ")\n",
    "\n",
    "# Display trajectory summary\n",
    "traj_ute_radial.summary()"
   ]
  },
  {
   "cell_type": "code",
   "execution_count": null,
   "metadata": {},
   "outputs": [],
   "source": [
    "# Plot a subset of the UTE 3D Radial k-space trajectory\n",
    "fig = plt.figure(figsize=(8, 8))\n",
    "ax = fig.add_subplot(111, projection='3d')\n",
    "step = max(1, kspace_ute_radial_3d.shape[1] // 1000) # Aim for around 1000 points\n",
    "ax.plot(kspace_ute_radial_3d[0, ::step], kspace_ute_radial_3d[1, ::step], kspace_ute_radial_3d[2, ::step], '.', markersize=1)\n",
    "ax.set_title('UTE 3D Radial K-Space Trajectory (Half-Spokes)')\n",
    "ax.set_xlabel('Kx (rad/m)')\n",
    "ax.set_ylabel('Ky (rad/m)')\n",
    "ax.set_zlabel('Kz (rad/m)')\n",
    "plt.show()"
   ]
  },
  {
   "cell_type": "markdown",
   "metadata": {},
   "source": [
    "## 2. ZTE Trajectory\n",
    "\n",
    "The 'zte' trajectory type is an alias for 'radial3d'. To achieve ZTE's characteristic center-out ramp sampling, `ute_ramp_sampling` must be set to `True`."
   ]
  },
  {
   "cell_type": "code",
   "execution_count": null,
   "metadata": {},
   "outputs": [],
   "source": [
    "# Instantiate generator for a ZTE trajectory\n",
    "gen_zte = KSpaceTrajectoryGenerator(\n",
    "    traj_type='zte',      # Using the 'zte' alias\n",
    "    dim=3,\n",
    "    fov=0.200,            # meters\n",
    "    resolution=0.004,     # meters\n",
    "    n_interleaves=128,    # Number of radial spokes\n",
    "    use_golden_angle=True,\n",
    "    ute_ramp_sampling=True # CRITICAL: This enables the center-out ramp sampling for ZTE\n",
    ")\n",
    "\n",
    "# Generate trajectory waveforms\n",
    "kx_zte, ky_zte, kz_zte, gx_zte, gy_zte, gz_zte, t_zte = gen_zte.generate()\n",
    "\n",
    "# Combine all interleaves (spokes)\n",
    "kspace_zte_3d = np.stack([kx_zte.ravel(), ky_zte.ravel(), kz_zte.ravel()])\n",
    "gradients_zte_3d = np.stack([gx_zte.ravel(), gy_zte.ravel(), gz_zte.ravel()])\n",
    "\n",
    "# Create Trajectory object\n",
    "traj_zte = Trajectory(\n",
    "    name='ZTE Trajectory Example',\n",
    "    kspace_points_rad_per_m=kspace_zte_3d,\n",
    "    gradient_waveforms_Tm=gradients_zte_3d,\n",
    "    dt_seconds=gen_zte.dt,\n",
    "    metadata={'gamma_Hz_per_T': gen_zte.gamma, 'generator_params': gen_zte.__dict__}\n",
    ")\n",
    "\n",
    "# Display trajectory summary\n",
    "traj_zte.summary()"
   ]
  },
  {
   "cell_type": "code",
   "execution_count": null,
   "metadata": {},
   "outputs": [],
   "source": [
    "# Plot a subset of the ZTE k-space trajectory\n",
    "fig = plt.figure(figsize=(8, 8))\n",
    "ax = fig.add_subplot(111, projection='3d')\n",
    "step = max(1, kspace_zte_3d.shape[1] // 1000) # Aim for around 1000 points\n",
    "ax.plot(kspace_zte_3d[0, ::step], kspace_zte_3d[1, ::step], kspace_zte_3d[2, ::step], '.', markersize=1)\n",
    "ax.set_title('ZTE K-Space Trajectory (Center-Out Ramped Radial)')\n",
    "ax.set_xlabel('Kx (rad/m)')\n",
    "ax.set_ylabel('Ky (rad/m)')\n",
    "ax.set_zlabel('Kz (rad/m)')\n",
    "plt.show()"
   ]
  },
  {
   "cell_type": "markdown",
   "metadata": {},
   "source": [
    "## 3. UTE Cones Trajectory"
   ]
  },
  {
   "cell_type": "code",
   "execution_count": null,
   "metadata": {},
   "outputs": [],
   "source": [
    "# Instantiate generator for a UTE Cones trajectory\n",
    "gen_ute_cones = KSpaceTrajectoryGenerator(\n",
    "    traj_type='cones',\n",
    "    dim=3,\n",
    "    fov=0.200,            # meters\n",
    "    resolution=0.005,     # meters\n",
    "    n_interleaves=32,     # Number of cones\n",
    "    use_golden_angle=False, # For cones, n_interleaves directly determines phi angles usually\n",
    "    ute_ramp_sampling=True, # Enable ramp sampling for UTE behavior\n",
    "    vd_method='power',    # Example: use power law for variable density along cone axis\n",
    "    vd_alpha=0.75\n",
    ")\n",
    "\n",
    "# Generate trajectory waveforms\n",
    "kx_ucones, ky_ucones, kz_ucones, gx_ucones, gy_ucones, gz_ucones, t_ucones = gen_ute_cones.generate()\n",
    "\n",
    "# Combine all interleaves (cones)\n",
    "kspace_ute_cones_3d = np.stack([kx_ucones.ravel(), ky_ucones.ravel(), kz_ucones.ravel()])\n",
    "gradients_ute_cones_3d = np.stack([gx_ucones.ravel(), gy_ucones.ravel(), gz_ucones.ravel()])\n",
    "\n",
    "# Create Trajectory object\n",
    "traj_ute_cones = Trajectory(\n",
    "    name='UTE Cones Example',\n",
    "    kspace_points_rad_per_m=kspace_ute_cones_3d,\n",
    "    gradient_waveforms_Tm=gradients_ute_cones_3d,\n",
    "    dt_seconds=gen_ute_cones.dt,\n",
    "    metadata={'gamma_Hz_per_T': gen_ute_cones.gamma, 'generator_params': gen_ute_cones.__dict__}\n",
    ")\n",
    "\n",
    "# Display trajectory summary\n",
    "traj_ute_cones.summary()"
   ]
  },
  {
   "cell_type": "code",
   "execution_count": null,
   "metadata": {},
   "outputs": [],
   "source": [
    "# Plot a subset of the UTE Cones k-space trajectory\n",
    "fig = plt.figure(figsize=(8, 8))\n",
    "ax = fig.add_subplot(111, projection='3d')\n",
    "step = max(1, kspace_ute_cones_3d.shape[1] // 1000)\n",
    "ax.plot(kspace_ute_cones_3d[0, ::step], kspace_ute_cones_3d[1, ::step], kspace_ute_cones_3d[2, ::step], '.', markersize=1)\n",
    "ax.set_title('UTE Cones K-Space Trajectory (Ramp Sampled)')\n",
    "ax.set_xlabel('Kx (rad/m)')\n",
    "ax.set_ylabel('Ky (rad/m)')\n",
    "ax.set_zlabel('Kz (rad/m)')\n",
    "ax.view_init(elev=30, azim=30)\n",
    "plt.show()"
   ]
  },
  {
   "cell_type": "markdown",
   "metadata": {},
   "source": [
    "This notebook illustrated UTE-style radial and cone trajectories, as well as the ZTE trajectory (functionally similar to UTE radial). The key `ute_ramp_sampling=True` flag ensures that these trajectories sample from the k-space center outwards."
   ]
  }
 ],
 "metadata": {
  "kernelspec": {
   "display_name": "Python 3",
   "language": "python",
   "name": "python3"
  },
  "language_info": {
   "codemirror_mode": {
    "name": "ipython",
    "version": 3
   },
   "file_extension": ".py",
   "mimetype": "text/x-python",
   "name": "python",
   "nbconvert_exporter": "python",
   "pygments_lexer": "ipython3",
   "version": "3.9.12" 
  }
 },
 "nbformat": 4,
 "nbformat_minor": 2
}
